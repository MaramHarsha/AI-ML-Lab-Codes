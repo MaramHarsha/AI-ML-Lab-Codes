{
 "cells": [
  {
   "cell_type": "code",
   "execution_count": 1,
   "metadata": {},
   "outputs": [],
   "source": [
    "# importing libraries\n",
    "import pandas as pd\n",
    "import numpy as np\n",
    "import matplotlib.pyplot as plt\n",
    "import seaborn as sns\n",
    "import statsmodels.api  as sm\n",
    "from sklearn.model_selection import train_test_split\n",
    "from sklearn.linear_model import LinearRegression\n",
    "from sklearn.linear_model import LogisticRegression\n",
    "from sklearn.metrics import accuracy_score,confusion_matrix\n",
    "from sklearn.metrics import mean_squared_error\n",
    "from sklearn.metrics import r2_score"
   ]
  },
  {
   "cell_type": "markdown",
   "metadata": {},
   "source": [
    "#  a)- Splitting data into training and testing data"
   ]
  },
  {
   "cell_type": "code",
   "execution_count": 35,
   "metadata": {},
   "outputs": [],
   "source": [
    "df=pd.read_csv('House_Rent_Dataset.csv')"
   ]
  },
  {
   "cell_type": "code",
   "execution_count": 40,
   "metadata": {},
   "outputs": [
    {
     "data": {
      "text/plain": [
       "0.10     400.0\n",
       "0.95    2000.0\n",
       "Name: Size, dtype: float64"
      ]
     },
     "execution_count": 40,
     "metadata": {},
     "output_type": "execute_result"
    }
   ],
   "source": [
    "lower_bound=0.1\n",
    "upper_bound=0.95\n",
    "result=df['Size'].quantile([lower_bound,upper_bound])\n",
    "result"
   ]
  },
  {
   "cell_type": "code",
   "execution_count": 72,
   "metadata": {},
   "outputs": [
    {
     "ename": "TypeError",
     "evalue": "cut() missing 1 required positional argument: 'bins'",
     "output_type": "error",
     "traceback": [
      "\u001b[1;31m---------------------------------------------------------------------------\u001b[0m",
      "\u001b[1;31mTypeError\u001b[0m                                 Traceback (most recent call last)",
      "\u001b[1;32m<ipython-input-72-165e09fd4201>\u001b[0m in \u001b[0;36m<module>\u001b[1;34m\u001b[0m\n\u001b[0;32m      1\u001b[0m \u001b[0moutlier\u001b[0m\u001b[1;33m=\u001b[0m\u001b[1;33m(\u001b[0m\u001b[0mdf\u001b[0m\u001b[1;33m[\u001b[0m\u001b[1;34m'Size'\u001b[0m\u001b[1;33m]\u001b[0m\u001b[1;33m<\u001b[0m\u001b[0mresult\u001b[0m\u001b[1;33m.\u001b[0m\u001b[0mloc\u001b[0m\u001b[1;33m[\u001b[0m\u001b[0mlower_bound\u001b[0m\u001b[1;33m]\u001b[0m\u001b[1;33m)\u001b[0m \u001b[1;33m|\u001b[0m \u001b[1;33m(\u001b[0m\u001b[0mdf\u001b[0m\u001b[1;33m[\u001b[0m\u001b[1;34m'Size'\u001b[0m\u001b[1;33m]\u001b[0m\u001b[1;33m>\u001b[0m\u001b[0mresult\u001b[0m\u001b[1;33m.\u001b[0m\u001b[0mloc\u001b[0m\u001b[1;33m[\u001b[0m\u001b[0mupper_bound\u001b[0m\u001b[1;33m]\u001b[0m\u001b[1;33m)\u001b[0m\u001b[1;33m\u001b[0m\u001b[1;33m\u001b[0m\u001b[0m\n\u001b[0;32m      2\u001b[0m \u001b[0ma\u001b[0m\u001b[1;33m=\u001b[0m\u001b[0mdf\u001b[0m\u001b[1;33m[\u001b[0m\u001b[0moutlier\u001b[0m\u001b[1;33m]\u001b[0m\u001b[1;33m\u001b[0m\u001b[1;33m\u001b[0m\u001b[0m\n\u001b[1;32m----> 3\u001b[1;33m \u001b[0mpd\u001b[0m\u001b[1;33m.\u001b[0m\u001b[0mcut\u001b[0m\u001b[1;33m(\u001b[0m\u001b[0ma\u001b[0m\u001b[1;33m)\u001b[0m\u001b[1;33m\u001b[0m\u001b[1;33m\u001b[0m\u001b[0m\n\u001b[0m\u001b[0;32m      4\u001b[0m \u001b[1;31m#a=df.drop([outlier], axis=0,inplace=True)\u001b[0m\u001b[1;33m\u001b[0m\u001b[1;33m\u001b[0m\u001b[1;33m\u001b[0m\u001b[0m\n\u001b[0;32m      5\u001b[0m \u001b[1;31m#df[a]\u001b[0m\u001b[1;33m\u001b[0m\u001b[1;33m\u001b[0m\u001b[1;33m\u001b[0m\u001b[0m\n",
      "\u001b[1;31mTypeError\u001b[0m: cut() missing 1 required positional argument: 'bins'"
     ]
    }
   ],
   "source": [
    "outlier=(df['Size']<result.loc[lower_bound]) | (df['Size']>result.loc[upper_bound])\n",
    "a=df[outlier]\n",
    "pd.cut(a)\n",
    "#a=df.drop([outlier], axis=0,inplace=True)\n",
    "#df[a]"
   ]
  },
  {
   "cell_type": "code",
   "execution_count": 2,
   "metadata": {},
   "outputs": [
    {
     "name": "stdout",
     "output_type": "stream",
     "text": [
      "Size(rows) of training data is 3796\n",
      "Size(rows) of testing data is 950\n",
      "Data types of training data(X) are  Size          int64\n",
      "BHK           int64\n",
      "Bathroom      int64\n",
      "City         object\n",
      "Area Type    object\n",
      "dtype: object\n",
      "                            \n",
      "Exploring training data as(X) :                Size          BHK     Bathroom\n",
      "count  3796.000000  3796.000000  3796.000000\n",
      "mean    967.095627     2.090358     1.968388\n",
      "std     635.144783     0.838784     0.886468\n",
      "min      10.000000     1.000000     1.000000\n",
      "25%     550.000000     2.000000     1.000000\n",
      "50%     850.000000     2.000000     2.000000\n",
      "75%    1200.000000     3.000000     2.000000\n",
      "max    8000.000000     6.000000    10.000000\n",
      "Data types of testing data(X) are  Size          int64\n",
      "BHK           int64\n",
      "Bathroom      int64\n",
      "City         object\n",
      "Area Type    object\n",
      "dtype: object\n",
      "                            \n",
      "Exploring testing data as(X) :                Size         BHK    Bathroom\n",
      "count   950.000000  950.000000  950.000000\n",
      "mean    969.069474    2.057895    1.955789\n",
      "std     630.753003    0.805550    0.877144\n",
      "min      48.000000    1.000000    1.000000\n",
      "25%     572.500000    2.000000    1.000000\n",
      "50%     850.000000    2.000000    2.000000\n",
      "75%    1200.000000    3.000000    2.000000\n",
      "max    7000.000000    5.000000    7.000000\n"
     ]
    }
   ],
   "source": [
    "df.drop([\"\"])\n",
    "X=df[['Size','BHK','Bathroom','City','Area Type']]\n",
    "Y=df['Rent']\n",
    "X_train,X_test,Y_train,Y_test=train_test_split(X,Y, test_size=0.2, train_size=0.8, random_state=42 ,shuffle=True, stratify=None)\n",
    "print(\"Size(rows) of training data is\",len(X_train))\n",
    "print(\"Size(rows) of testing data is\",len(X_test))\n",
    "print(\"Data types of training data(X) are \",X_train.dtypes)\n",
    "print(\"                            \")\n",
    "print(\"Exploring training data as(X) : \",X_train.describe())\n",
    "print(\"Data types of testing data(X) are \",X_test.dtypes)\n",
    "print(\"                            \")\n",
    "print(\"Exploring testing data as(X) : \",X_test.describe())"
   ]
  },
  {
   "cell_type": "markdown",
   "metadata": {},
   "source": [
    "# b)- Data cleaning"
   ]
  },
  {
   "cell_type": "code",
   "execution_count": 3,
   "metadata": {},
   "outputs": [
    {
     "data": {
      "text/html": [
       "<div>\n",
       "<style scoped>\n",
       "    .dataframe tbody tr th:only-of-type {\n",
       "        vertical-align: middle;\n",
       "    }\n",
       "\n",
       "    .dataframe tbody tr th {\n",
       "        vertical-align: top;\n",
       "    }\n",
       "\n",
       "    .dataframe thead th {\n",
       "        text-align: right;\n",
       "    }\n",
       "</style>\n",
       "<table border=\"1\" class=\"dataframe\">\n",
       "  <thead>\n",
       "    <tr style=\"text-align: right;\">\n",
       "      <th></th>\n",
       "      <th>BHK</th>\n",
       "      <th>Rent</th>\n",
       "      <th>Size</th>\n",
       "      <th>Area Type</th>\n",
       "      <th>City</th>\n",
       "      <th>Furnishing Status</th>\n",
       "      <th>Tenant Preferred</th>\n",
       "      <th>Bathroom</th>\n",
       "    </tr>\n",
       "  </thead>\n",
       "  <tbody>\n",
       "    <tr>\n",
       "      <th>0</th>\n",
       "      <td>2</td>\n",
       "      <td>10000</td>\n",
       "      <td>1100</td>\n",
       "      <td>Super Area</td>\n",
       "      <td>Kolkata</td>\n",
       "      <td>Unfurnished</td>\n",
       "      <td>Bachelors/Family</td>\n",
       "      <td>2</td>\n",
       "    </tr>\n",
       "    <tr>\n",
       "      <th>1</th>\n",
       "      <td>2</td>\n",
       "      <td>20000</td>\n",
       "      <td>800</td>\n",
       "      <td>Super Area</td>\n",
       "      <td>Kolkata</td>\n",
       "      <td>Semi-Furnished</td>\n",
       "      <td>Bachelors/Family</td>\n",
       "      <td>1</td>\n",
       "    </tr>\n",
       "    <tr>\n",
       "      <th>2</th>\n",
       "      <td>2</td>\n",
       "      <td>17000</td>\n",
       "      <td>1000</td>\n",
       "      <td>Super Area</td>\n",
       "      <td>Kolkata</td>\n",
       "      <td>Semi-Furnished</td>\n",
       "      <td>Bachelors/Family</td>\n",
       "      <td>1</td>\n",
       "    </tr>\n",
       "    <tr>\n",
       "      <th>3</th>\n",
       "      <td>2</td>\n",
       "      <td>10000</td>\n",
       "      <td>800</td>\n",
       "      <td>Super Area</td>\n",
       "      <td>Kolkata</td>\n",
       "      <td>Unfurnished</td>\n",
       "      <td>Bachelors/Family</td>\n",
       "      <td>1</td>\n",
       "    </tr>\n",
       "    <tr>\n",
       "      <th>4</th>\n",
       "      <td>2</td>\n",
       "      <td>7500</td>\n",
       "      <td>850</td>\n",
       "      <td>Carpet Area</td>\n",
       "      <td>Kolkata</td>\n",
       "      <td>Unfurnished</td>\n",
       "      <td>Bachelors</td>\n",
       "      <td>1</td>\n",
       "    </tr>\n",
       "    <tr>\n",
       "      <th>...</th>\n",
       "      <td>...</td>\n",
       "      <td>...</td>\n",
       "      <td>...</td>\n",
       "      <td>...</td>\n",
       "      <td>...</td>\n",
       "      <td>...</td>\n",
       "      <td>...</td>\n",
       "      <td>...</td>\n",
       "    </tr>\n",
       "    <tr>\n",
       "      <th>4741</th>\n",
       "      <td>2</td>\n",
       "      <td>15000</td>\n",
       "      <td>1000</td>\n",
       "      <td>Carpet Area</td>\n",
       "      <td>Hyderabad</td>\n",
       "      <td>Semi-Furnished</td>\n",
       "      <td>Bachelors/Family</td>\n",
       "      <td>2</td>\n",
       "    </tr>\n",
       "    <tr>\n",
       "      <th>4742</th>\n",
       "      <td>3</td>\n",
       "      <td>29000</td>\n",
       "      <td>2000</td>\n",
       "      <td>Super Area</td>\n",
       "      <td>Hyderabad</td>\n",
       "      <td>Semi-Furnished</td>\n",
       "      <td>Bachelors/Family</td>\n",
       "      <td>3</td>\n",
       "    </tr>\n",
       "    <tr>\n",
       "      <th>4743</th>\n",
       "      <td>3</td>\n",
       "      <td>35000</td>\n",
       "      <td>1750</td>\n",
       "      <td>Carpet Area</td>\n",
       "      <td>Hyderabad</td>\n",
       "      <td>Semi-Furnished</td>\n",
       "      <td>Bachelors/Family</td>\n",
       "      <td>3</td>\n",
       "    </tr>\n",
       "    <tr>\n",
       "      <th>4744</th>\n",
       "      <td>3</td>\n",
       "      <td>45000</td>\n",
       "      <td>1500</td>\n",
       "      <td>Carpet Area</td>\n",
       "      <td>Hyderabad</td>\n",
       "      <td>Semi-Furnished</td>\n",
       "      <td>Family</td>\n",
       "      <td>2</td>\n",
       "    </tr>\n",
       "    <tr>\n",
       "      <th>4745</th>\n",
       "      <td>2</td>\n",
       "      <td>15000</td>\n",
       "      <td>1000</td>\n",
       "      <td>Carpet Area</td>\n",
       "      <td>Hyderabad</td>\n",
       "      <td>Unfurnished</td>\n",
       "      <td>Bachelors</td>\n",
       "      <td>2</td>\n",
       "    </tr>\n",
       "  </tbody>\n",
       "</table>\n",
       "<p>4746 rows × 8 columns</p>\n",
       "</div>"
      ],
      "text/plain": [
       "      BHK   Rent  Size    Area Type       City Furnishing Status  \\\n",
       "0       2  10000  1100   Super Area    Kolkata       Unfurnished   \n",
       "1       2  20000   800   Super Area    Kolkata    Semi-Furnished   \n",
       "2       2  17000  1000   Super Area    Kolkata    Semi-Furnished   \n",
       "3       2  10000   800   Super Area    Kolkata       Unfurnished   \n",
       "4       2   7500   850  Carpet Area    Kolkata       Unfurnished   \n",
       "...   ...    ...   ...          ...        ...               ...   \n",
       "4741    2  15000  1000  Carpet Area  Hyderabad    Semi-Furnished   \n",
       "4742    3  29000  2000   Super Area  Hyderabad    Semi-Furnished   \n",
       "4743    3  35000  1750  Carpet Area  Hyderabad    Semi-Furnished   \n",
       "4744    3  45000  1500  Carpet Area  Hyderabad    Semi-Furnished   \n",
       "4745    2  15000  1000  Carpet Area  Hyderabad       Unfurnished   \n",
       "\n",
       "      Tenant Preferred  Bathroom  \n",
       "0     Bachelors/Family         2  \n",
       "1     Bachelors/Family         1  \n",
       "2     Bachelors/Family         1  \n",
       "3     Bachelors/Family         1  \n",
       "4            Bachelors         1  \n",
       "...                ...       ...  \n",
       "4741  Bachelors/Family         2  \n",
       "4742  Bachelors/Family         3  \n",
       "4743  Bachelors/Family         3  \n",
       "4744            Family         2  \n",
       "4745         Bachelors         2  \n",
       "\n",
       "[4746 rows x 8 columns]"
      ]
     },
     "execution_count": 3,
     "metadata": {},
     "output_type": "execute_result"
    }
   ],
   "source": [
    "# removing posted and point od conatcts coluns because they are not contributing in predection of rent\n",
    "new_df=df.drop(['Posted On','Point of Contact','Area Locality','Floor'], axis=1)\n",
    "new_df"
   ]
  },
  {
   "cell_type": "code",
   "execution_count": 4,
   "metadata": {},
   "outputs": [
    {
     "name": "stdout",
     "output_type": "stream",
     "text": [
      "Misssing values in original data : \n",
      "BHK                  0\n",
      "Rent                 0\n",
      "Size                 0\n",
      "Area Type            0\n",
      "City                 0\n",
      "Furnishing Status    0\n",
      "Tenant Preferred     0\n",
      "Bathroom             0\n",
      "dtype: int64\n",
      "                                  \n",
      "Missing values in training data\n",
      "Size         0\n",
      "BHK          0\n",
      "Bathroom     0\n",
      "City         0\n",
      "Area Type    0\n",
      "dtype: int64\n"
     ]
    }
   ],
   "source": [
    "print(\"Misssing values in original data : \")\n",
    "print(new_df.isnull().sum()) \n",
    "print(\"                                  \")\n",
    "print(\"Missing values in training data\")        # no  missing values in orginal data and training and testing data\n",
    "print(X_train.isnull().sum())"
   ]
  },
  {
   "cell_type": "code",
   "execution_count": 5,
   "metadata": {},
   "outputs": [
    {
     "name": "stdout",
     "output_type": "stream",
     "text": [
      "Number of duplicates values 277\n"
     ]
    }
   ],
   "source": [
    "print(\"Number of duplicates values\", new_df.duplicated().sum())"
   ]
  },
  {
   "cell_type": "code",
   "execution_count": 6,
   "metadata": {},
   "outputs": [
    {
     "name": "stdout",
     "output_type": "stream",
     "text": [
      "Names of coloumns which have categorical data in original data(df) - >\n",
      "['Area Type', 'City', 'Furnishing Status', 'Tenant Preferred']\n",
      "Unique values of area type are :  ['Super Area' 'Carpet Area' 'Built Area']\n"
     ]
    },
    {
     "data": {
      "text/html": [
       "<div>\n",
       "<style scoped>\n",
       "    .dataframe tbody tr th:only-of-type {\n",
       "        vertical-align: middle;\n",
       "    }\n",
       "\n",
       "    .dataframe tbody tr th {\n",
       "        vertical-align: top;\n",
       "    }\n",
       "\n",
       "    .dataframe thead th {\n",
       "        text-align: right;\n",
       "    }\n",
       "</style>\n",
       "<table border=\"1\" class=\"dataframe\">\n",
       "  <thead>\n",
       "    <tr style=\"text-align: right;\">\n",
       "      <th></th>\n",
       "      <th>BHK</th>\n",
       "      <th>Rent</th>\n",
       "      <th>Size</th>\n",
       "      <th>Area Type</th>\n",
       "      <th>City</th>\n",
       "      <th>Furnishing Status</th>\n",
       "      <th>Tenant Preferred</th>\n",
       "      <th>Bathroom</th>\n",
       "    </tr>\n",
       "  </thead>\n",
       "  <tbody>\n",
       "    <tr>\n",
       "      <th>0</th>\n",
       "      <td>2</td>\n",
       "      <td>10000</td>\n",
       "      <td>1100</td>\n",
       "      <td>1</td>\n",
       "      <td>Kolkata</td>\n",
       "      <td>Unfurnished</td>\n",
       "      <td>Bachelors/Family</td>\n",
       "      <td>2</td>\n",
       "    </tr>\n",
       "    <tr>\n",
       "      <th>1</th>\n",
       "      <td>2</td>\n",
       "      <td>20000</td>\n",
       "      <td>800</td>\n",
       "      <td>1</td>\n",
       "      <td>Kolkata</td>\n",
       "      <td>Semi-Furnished</td>\n",
       "      <td>Bachelors/Family</td>\n",
       "      <td>1</td>\n",
       "    </tr>\n",
       "    <tr>\n",
       "      <th>2</th>\n",
       "      <td>2</td>\n",
       "      <td>17000</td>\n",
       "      <td>1000</td>\n",
       "      <td>1</td>\n",
       "      <td>Kolkata</td>\n",
       "      <td>Semi-Furnished</td>\n",
       "      <td>Bachelors/Family</td>\n",
       "      <td>1</td>\n",
       "    </tr>\n",
       "    <tr>\n",
       "      <th>3</th>\n",
       "      <td>2</td>\n",
       "      <td>10000</td>\n",
       "      <td>800</td>\n",
       "      <td>1</td>\n",
       "      <td>Kolkata</td>\n",
       "      <td>Unfurnished</td>\n",
       "      <td>Bachelors/Family</td>\n",
       "      <td>1</td>\n",
       "    </tr>\n",
       "    <tr>\n",
       "      <th>4</th>\n",
       "      <td>2</td>\n",
       "      <td>7500</td>\n",
       "      <td>850</td>\n",
       "      <td>2</td>\n",
       "      <td>Kolkata</td>\n",
       "      <td>Unfurnished</td>\n",
       "      <td>Bachelors</td>\n",
       "      <td>1</td>\n",
       "    </tr>\n",
       "    <tr>\n",
       "      <th>...</th>\n",
       "      <td>...</td>\n",
       "      <td>...</td>\n",
       "      <td>...</td>\n",
       "      <td>...</td>\n",
       "      <td>...</td>\n",
       "      <td>...</td>\n",
       "      <td>...</td>\n",
       "      <td>...</td>\n",
       "    </tr>\n",
       "    <tr>\n",
       "      <th>4741</th>\n",
       "      <td>2</td>\n",
       "      <td>15000</td>\n",
       "      <td>1000</td>\n",
       "      <td>2</td>\n",
       "      <td>Hyderabad</td>\n",
       "      <td>Semi-Furnished</td>\n",
       "      <td>Bachelors/Family</td>\n",
       "      <td>2</td>\n",
       "    </tr>\n",
       "    <tr>\n",
       "      <th>4742</th>\n",
       "      <td>3</td>\n",
       "      <td>29000</td>\n",
       "      <td>2000</td>\n",
       "      <td>1</td>\n",
       "      <td>Hyderabad</td>\n",
       "      <td>Semi-Furnished</td>\n",
       "      <td>Bachelors/Family</td>\n",
       "      <td>3</td>\n",
       "    </tr>\n",
       "    <tr>\n",
       "      <th>4743</th>\n",
       "      <td>3</td>\n",
       "      <td>35000</td>\n",
       "      <td>1750</td>\n",
       "      <td>2</td>\n",
       "      <td>Hyderabad</td>\n",
       "      <td>Semi-Furnished</td>\n",
       "      <td>Bachelors/Family</td>\n",
       "      <td>3</td>\n",
       "    </tr>\n",
       "    <tr>\n",
       "      <th>4744</th>\n",
       "      <td>3</td>\n",
       "      <td>45000</td>\n",
       "      <td>1500</td>\n",
       "      <td>2</td>\n",
       "      <td>Hyderabad</td>\n",
       "      <td>Semi-Furnished</td>\n",
       "      <td>Family</td>\n",
       "      <td>2</td>\n",
       "    </tr>\n",
       "    <tr>\n",
       "      <th>4745</th>\n",
       "      <td>2</td>\n",
       "      <td>15000</td>\n",
       "      <td>1000</td>\n",
       "      <td>2</td>\n",
       "      <td>Hyderabad</td>\n",
       "      <td>Unfurnished</td>\n",
       "      <td>Bachelors</td>\n",
       "      <td>2</td>\n",
       "    </tr>\n",
       "  </tbody>\n",
       "</table>\n",
       "<p>4746 rows × 8 columns</p>\n",
       "</div>"
      ],
      "text/plain": [
       "      BHK   Rent  Size  Area Type       City Furnishing Status  \\\n",
       "0       2  10000  1100          1    Kolkata       Unfurnished   \n",
       "1       2  20000   800          1    Kolkata    Semi-Furnished   \n",
       "2       2  17000  1000          1    Kolkata    Semi-Furnished   \n",
       "3       2  10000   800          1    Kolkata       Unfurnished   \n",
       "4       2   7500   850          2    Kolkata       Unfurnished   \n",
       "...   ...    ...   ...        ...        ...               ...   \n",
       "4741    2  15000  1000          2  Hyderabad    Semi-Furnished   \n",
       "4742    3  29000  2000          1  Hyderabad    Semi-Furnished   \n",
       "4743    3  35000  1750          2  Hyderabad    Semi-Furnished   \n",
       "4744    3  45000  1500          2  Hyderabad    Semi-Furnished   \n",
       "4745    2  15000  1000          2  Hyderabad       Unfurnished   \n",
       "\n",
       "      Tenant Preferred  Bathroom  \n",
       "0     Bachelors/Family         2  \n",
       "1     Bachelors/Family         1  \n",
       "2     Bachelors/Family         1  \n",
       "3     Bachelors/Family         1  \n",
       "4            Bachelors         1  \n",
       "...                ...       ...  \n",
       "4741  Bachelors/Family         2  \n",
       "4742  Bachelors/Family         3  \n",
       "4743  Bachelors/Family         3  \n",
       "4744            Family         2  \n",
       "4745         Bachelors         2  \n",
       "\n",
       "[4746 rows x 8 columns]"
      ]
     },
     "execution_count": 6,
     "metadata": {},
     "output_type": "execute_result"
    }
   ],
   "source": [
    "print(\"Names of coloumns which have categorical data in original data(df) - >\")\n",
    "print(new_df.select_dtypes(include=['object']).columns.tolist())\n",
    "print(\"Unique values of area type are : \", new_df['Area Type'].unique())\n",
    "a = np.array([1])\n",
    "b = np.array([2])\n",
    "c = np.array([3])\n",
    "cleanup = {\"Area Type\": {'Super Area':a, 'Carpet Area':b, 'Built Area':c}}\n",
    "new_df['Area Type'] = new_df['Area Type'].astype('str')\n",
    "new_df.replace(cleanup,inplace=True)\n",
    "new_df"
   ]
  },
  {
   "cell_type": "markdown",
   "metadata": {},
   "source": [
    "# Exploratory Analysis (On training set):"
   ]
  },
  {
   "cell_type": "code",
   "execution_count": 7,
   "metadata": {},
   "outputs": [
    {
     "data": {
      "text/plain": [
       "(      Size  BHK  Bathroom       City    Area Type\n",
       " 1995   950    2         2  Bangalore   Super Area\n",
       " 1497   800    2         2  Bangalore   Super Area\n",
       " 2763   545    1         1      Delhi   Super Area\n",
       " 1351   465    1         1     Mumbai   Super Area\n",
       " 1862   900    2         2  Bangalore   Super Area\n",
       " ...    ...  ...       ...        ...          ...\n",
       " 4426  1500    3         3  Hyderabad  Carpet Area\n",
       " 466   1200    3         2    Kolkata   Super Area\n",
       " 3092   800    2         2    Chennai  Carpet Area\n",
       " 3772  3500    3         3    Chennai  Carpet Area\n",
       " 860    450    1         2     Mumbai  Carpet Area\n",
       " \n",
       " [3796 rows x 5 columns],\n",
       " 1995    23500\n",
       " 1497    10500\n",
       " 2763    19000\n",
       " 1351    20000\n",
       " 1862    17000\n",
       "         ...  \n",
       " 4426    25000\n",
       " 466     20000\n",
       " 3092    20000\n",
       " 3772    85000\n",
       " 860     25000\n",
       " Name: Rent, Length: 3796, dtype: int64)"
      ]
     },
     "execution_count": 7,
     "metadata": {},
     "output_type": "execute_result"
    },
    {
     "data": {
      "image/png": "[encoded data removed]",
      "text/plain": [
       "<Figure size 432x288 with 1 Axes>"
      ]
     },
     "metadata": {
      "needs_background": "light"
     },
     "output_type": "display_data"
    }
   ],
   "source": [
    "#X_train['Size']\n",
    "plt.scatter(X_train['Size'],Y_train,color='red')\n",
    "plt.title(\"House Rent Vs House Size\")       # relationship between size and rent\n",
    "plt.xlabel(\"House Size\")\n",
    "plt.ylabel(\"House Rent\")\n",
    "X_train,Y_train"
   ]
  },
  {
   "cell_type": "code",
   "execution_count": 8,
   "metadata": {},
   "outputs": [
    {
     "data": {
      "text/plain": [
       "Text(0, 0.5, 'House Rent')"
      ]
     },
     "execution_count": 8,
     "metadata": {},
     "output_type": "execute_result"
    },
    {
     "data": {
      "image/png": "[encoded data removed]",
      "text/plain": [
       "<Figure size 432x288 with 1 Axes>"
      ]
     },
     "metadata": {
      "needs_background": "light"
     },
     "output_type": "display_data"
    }
   ],
   "source": [
    "plt.scatter(X_train['BHK'],Y_train,color='red')\n",
    "plt.title(\"BHK Vs House Size\")       # relationship between BHK and rent\n",
    "plt.xlabel(\"BHK\")\n",
    "plt.ylabel(\"House Rent\")"
   ]
  },
  {
   "cell_type": "code",
   "execution_count": 9,
   "metadata": {},
   "outputs": [
    {
     "data": {
      "text/plain": [
       "Text(0, 0.5, 'House Rent')"
      ]
     },
     "execution_count": 9,
     "metadata": {},
     "output_type": "execute_result"
    },
    {
     "data": {
      "image/png": "[encoded data removed]",
      "text/plain": [
       "<Figure size 432x288 with 1 Axes>"
      ]
     },
     "metadata": {
      "needs_background": "light"
     },
     "output_type": "display_data"
    }
   ],
   "source": [
    "plt.scatter(X_train['City'],Y_train,color='red')\n",
    "plt.title(\"City Vs House Size\")       # relationship between City and rent\n",
    "plt.xlabel(\"City\")\n",
    "plt.ylabel(\"House Rent\")"
   ]
  },
  {
   "cell_type": "code",
   "execution_count": 10,
   "metadata": {},
   "outputs": [
    {
     "data": {
      "text/plain": [
       "Text(0, 0.5, 'House Rent')"
      ]
     },
     "execution_count": 10,
     "metadata": {},
     "output_type": "execute_result"
    },
    {
     "data": {
      "image/png": "[encoded data removed]",
      "text/plain": [
       "<Figure size 432x288 with 1 Axes>"
      ]
     },
     "metadata": {
      "needs_background": "light"
     },
     "output_type": "display_data"
    }
   ],
   "source": [
    "plt.scatter(X_train['Area Type'],Y_train,color='red')\n",
    "plt.title(\"Area Type Vs House Size\")       # relationship between Area Type and rent\n",
    "plt.xlabel(\"Area type\")\n",
    "plt.ylabel(\"House Rent\")"
   ]
  },
  {
   "cell_type": "code",
   "execution_count": 28,
   "metadata": {},
   "outputs": [
    {
     "data": {
      "text/plain": [
       "City\n",
       "Bangalore    24966.366\n",
       "Chennai      21614.092\n",
       "Delhi        29461.983\n",
       "Hyderabad    20555.048\n",
       "Kolkata      11645.174\n",
       "Mumbai       85321.205\n",
       "Name: Rent, dtype: float64"
      ]
     },
     "execution_count": 28,
     "metadata": {},
     "output_type": "execute_result"
    }
   ],
   "source": [
    "w=new_df.groupby(\"City\")['Rent'].mean().round(decimals=3)\n",
    "w"
   ]
  },
  {
   "cell_type": "code",
   "execution_count": 12,
   "metadata": {},
   "outputs": [
    {
     "data": {
      "text/plain": [
       "Text(0, 0.5, 'Average Rent')"
      ]
     },
     "execution_count": 12,
     "metadata": {},
     "output_type": "execute_result"
    },
    {
     "data": {
      "image/png": "[encoded data removed]",
      "text/plain": [
       "<Figure size 432x288 with 1 Axes>"
      ]
     },
     "metadata": {
      "needs_background": "light"
     },
     "output_type": "display_data"
    }
   ],
   "source": [
    "w.plot.bar(rot=0,color='Purple')\n",
    "plt.xlabel(\"City\")\n",
    "plt.ylabel(\"Average Rent\")"
   ]
  },
  {
   "cell_type": "code",
   "execution_count": 13,
   "metadata": {},
   "outputs": [
    {
     "data": {
      "text/plain": [
       "<AxesSubplot:>"
      ]
     },
     "execution_count": 13,
     "metadata": {},
     "output_type": "execute_result"
    },
    {
     "data": {
      "image/png": "[encoded data removed]",
      "text/plain": [
       "<Figure size 432x288 with 2 Axes>"
      ]
     },
     "metadata": {
      "needs_background": "light"
     },
     "output_type": "display_data"
    }
   ],
   "source": [
    "f=new_df.corr()\n",
    "f\n",
    "sns.heatmap(f,annot=True,)   # correlation matrix between differnert differenrt columns"
   ]
  },
  {
   "cell_type": "markdown",
   "metadata": {},
   "source": [
    "#  Regresssion"
   ]
  },
  {
   "cell_type": "code",
   "execution_count": 14,
   "metadata": {},
   "outputs": [
    {
     "name": "stdout",
     "output_type": "stream",
     "text": [
      "Coefficient is =  [49.45643895]\n",
      "Intercept is  =  -12677.589503208867\n",
      "Root Mean Square valuue is =  52161.29135909078\n"
     ]
    },
    {
     "data": {
      "text/html": [
       "<div>\n",
       "<style scoped>\n",
       "    .dataframe tbody tr th:only-of-type {\n",
       "        vertical-align: middle;\n",
       "    }\n",
       "\n",
       "    .dataframe tbody tr th {\n",
       "        vertical-align: top;\n",
       "    }\n",
       "\n",
       "    .dataframe thead th {\n",
       "        text-align: right;\n",
       "    }\n",
       "</style>\n",
       "<table border=\"1\" class=\"dataframe\">\n",
       "  <thead>\n",
       "    <tr style=\"text-align: right;\">\n",
       "      <th></th>\n",
       "      <th>Actual Rent</th>\n",
       "      <th>Predicted Rent</th>\n",
       "    </tr>\n",
       "  </thead>\n",
       "  <tbody>\n",
       "    <tr>\n",
       "      <th>1566</th>\n",
       "      <td>16000</td>\n",
       "      <td>41724.493344</td>\n",
       "    </tr>\n",
       "    <tr>\n",
       "      <th>3159</th>\n",
       "      <td>12000</td>\n",
       "      <td>26887.561658</td>\n",
       "    </tr>\n",
       "    <tr>\n",
       "      <th>538</th>\n",
       "      <td>28000</td>\n",
       "      <td>12940.845874</td>\n",
       "    </tr>\n",
       "    <tr>\n",
       "      <th>2630</th>\n",
       "      <td>8000</td>\n",
       "      <td>61507.068925</td>\n",
       "    </tr>\n",
       "    <tr>\n",
       "      <th>4418</th>\n",
       "      <td>46000</td>\n",
       "      <td>97857.551554</td>\n",
       "    </tr>\n",
       "    <tr>\n",
       "      <th>...</th>\n",
       "      <td>...</td>\n",
       "      <td>...</td>\n",
       "    </tr>\n",
       "    <tr>\n",
       "      <th>4124</th>\n",
       "      <td>18000</td>\n",
       "      <td>49044.046309</td>\n",
       "    </tr>\n",
       "    <tr>\n",
       "      <th>3400</th>\n",
       "      <td>25000</td>\n",
       "      <td>41724.493344</td>\n",
       "    </tr>\n",
       "    <tr>\n",
       "      <th>1941</th>\n",
       "      <td>14000</td>\n",
       "      <td>34306.027501</td>\n",
       "    </tr>\n",
       "    <tr>\n",
       "      <th>3679</th>\n",
       "      <td>26000</td>\n",
       "      <td>42960.904318</td>\n",
       "    </tr>\n",
       "    <tr>\n",
       "      <th>2531</th>\n",
       "      <td>11000</td>\n",
       "      <td>12050.629973</td>\n",
       "    </tr>\n",
       "  </tbody>\n",
       "</table>\n",
       "<p>950 rows × 2 columns</p>\n",
       "</div>"
      ],
      "text/plain": [
       "      Actual Rent  Predicted Rent\n",
       "1566        16000    41724.493344\n",
       "3159        12000    26887.561658\n",
       "538         28000    12940.845874\n",
       "2630         8000    61507.068925\n",
       "4418        46000    97857.551554\n",
       "...           ...             ...\n",
       "4124        18000    49044.046309\n",
       "3400        25000    41724.493344\n",
       "1941        14000    34306.027501\n",
       "3679        26000    42960.904318\n",
       "2531        11000    12050.629973\n",
       "\n",
       "[950 rows x 2 columns]"
      ]
     },
     "execution_count": 14,
     "metadata": {},
     "output_type": "execute_result"
    }
   ],
   "source": [
    "# with one independent variable only \n",
    "\n",
    "a=LinearRegression()\n",
    "a.fit(X_train[['Size']],Y_train)\n",
    "Y_pred=a.predict(X_test[['Size']])\n",
    "s=a.coef_\n",
    "c=a.intercept_\n",
    "print(\"Coefficient is = \" ,s)\n",
    "print(\"Intercept is  = \" ,c) \n",
    "mse=mean_squared_error(Y_pred,Y_test)\n",
    "#print(mse)\n",
    "rmse=np.sqrt(mse)\n",
    "print(\"Root Mean Square valuue is = \",rmse)\n",
    "pd.DataFrame({'Actual Rent': Y_test, 'Predicted Rent': Y_pred})  # Eqaution of regresssion line is 49.45X-12677\n"
   ]
  },
  {
   "cell_type": "code",
   "execution_count": 15,
   "metadata": {},
   "outputs": [
    {
     "data": {
      "text/plain": [
       "1566    16000\n",
       "3159    12000\n",
       "538     28000\n",
       "2630     8000\n",
       "4418    46000\n",
       "        ...  \n",
       "4124    18000\n",
       "3400    25000\n",
       "1941    14000\n",
       "3679    26000\n",
       "2531    11000\n",
       "Name: Rent, Length: 950, dtype: int64"
      ]
     },
     "execution_count": 15,
     "metadata": {},
     "output_type": "execute_result"
    }
   ],
   "source": [
    "Y_test"
   ]
  },
  {
   "cell_type": "code",
   "execution_count": 16,
   "metadata": {},
   "outputs": [
    {
     "data": {
      "text/plain": [
       "Text(0, 0.5, 'House Rent')"
      ]
     },
     "execution_count": 16,
     "metadata": {},
     "output_type": "execute_result"
    },
    {
     "data": {
      "image/png": "[encoded data removed]",
      "text/plain": [
       "<Figure size 432x288 with 1 Axes>"
      ]
     },
     "metadata": {
      "needs_background": "light"
     },
     "output_type": "display_data"
    }
   ],
   "source": [
    "plt.scatter(X_train['Size'], Y_train,color='g') \n",
    "plt.plot(X_test['Size'], Y_pred,color='k') \n",
    "plt.title(\"House Size Vs House rent\")\n",
    "plt.xlabel(\"House Size\")\n",
    "plt.ylabel(\"House Rent\")"
   ]
  },
  {
   "cell_type": "code",
   "execution_count": 17,
   "metadata": {},
   "outputs": [
    {
     "name": "stdout",
     "output_type": "stream",
     "text": [
      "Intercept is  =  -39022.92849685519\n",
      "Root Mean Square valuue is =  50544.789811069684\n",
      "           Coefficents\n",
      "Size         21.053941\n",
      "BHK        -269.131569\n",
      "Bathroom  27624.563039\n"
     ]
    },
    {
     "data": {
      "text/plain": [
       "(      Size  BHK  Bathroom       City    Area Type\n",
       " 1566  1100    2         2  Bangalore   Super Area\n",
       " 3159   800    2         2    Chennai   Super Area\n",
       " 538    518    2         2     Mumbai  Carpet Area\n",
       " 2630  1500    3         3      Delhi  Carpet Area\n",
       " 4418  2235    3         5  Hyderabad  Carpet Area\n",
       " ...    ...  ...       ...        ...          ...\n",
       " 4124  1248    2         2  Hyderabad  Carpet Area\n",
       " 3400  1100    3         2    Chennai   Super Area\n",
       " 1941   950    2         2  Bangalore   Super Area\n",
       " 3679  1125    3         2    Chennai   Super Area\n",
       " 2531   500    1         1      Delhi   Super Area\n",
       " \n",
       " [950 rows x 5 columns],\n",
       " 1566    16000\n",
       " 3159    12000\n",
       " 538     28000\n",
       " 2630     8000\n",
       " 4418    46000\n",
       "         ...  \n",
       " 4124    18000\n",
       " 3400    25000\n",
       " 1941    14000\n",
       " 3679    26000\n",
       " 2531    11000\n",
       " Name: Rent, Length: 950, dtype: int64)"
      ]
     },
     "execution_count": 17,
     "metadata": {},
     "output_type": "execute_result"
    }
   ],
   "source": [
    "# with more than one independent variable\n",
    "a=LinearRegression()\n",
    "a.fit(X_train[['Size','BHK','Bathroom']],Y_train)\n",
    "Y_pred=a.predict(X_test[['Size','BHK','Bathroom']])\n",
    "s=a.coef_\n",
    "c=a.intercept_                                # Equation of regresssion line is 21.053x1-269.1315x2+27624.563x3-39022\n",
    "X_train1=X_train[['Size','BHK','Bathroom']]\n",
    "coeff=pd.DataFrame(a.coef_,X_train1.columns,columns=['Coefficents'])           \n",
    "print(\"Intercept is  = \" ,c) \n",
    "mse=mean_squared_error(Y_test,Y_pred)\n",
    "rmse=np.sqrt(mse)\n",
    "print(\"Root Mean Square valuue is = \",rmse)\n",
    "t=pd.DataFrame({'Actual Rent': Y_test, 'Predicted Rent': Y_pred})   \n",
    "print(coeff)\n",
    "t\n",
    "X_test,Y_test"
   ]
  },
  {
   "cell_type": "code",
   "execution_count": 18,
   "metadata": {},
   "outputs": [
    {
     "data": {
      "text/plain": [
       "Text(0, 0.5, 'House Rent')"
      ]
     },
     "execution_count": 18,
     "metadata": {},
     "output_type": "execute_result"
    },
    {
     "data": {
      "image/png": "[encoded data removed]",
      "text/plain": [
       "<Figure size 432x288 with 1 Axes>"
      ]
     },
     "metadata": {
      "needs_background": "light"
     },
     "output_type": "display_data"
    }
   ],
   "source": [
    "plt.scatter(X_train['BHK'], Y_train,color='g') \n",
    "plt.plot(X_test['BHK'], Y_pred,color='red') \n",
    "plt.title(\"BHK Vs House rent\")\n",
    "plt.xlabel(\"BHK\")\n",
    "plt.ylabel(\"House Rent\")"
   ]
  },
  {
   "cell_type": "code",
   "execution_count": 19,
   "metadata": {},
   "outputs": [
    {
     "data": {
      "text/plain": [
       "Text(0, 0.5, 'House Rent')"
      ]
     },
     "execution_count": 19,
     "metadata": {},
     "output_type": "execute_result"
    },
    {
     "data": {
      "image/png": "[encoded data removed]",
      "text/plain": [
       "<Figure size 432x288 with 1 Axes>"
      ]
     },
     "metadata": {
      "needs_background": "light"
     },
     "output_type": "display_data"
    }
   ],
   "source": [
    "plt.scatter(X_train['Size'], Y_train,color='g') \n",
    "plt.plot(X_test['Size'], Y_pred,color='red') \n",
    "plt.title(\"Size Vs House rent\")\n",
    "plt.xlabel(\"Size\")\n",
    "plt.ylabel(\"House Rent\")"
   ]
  },
  {
   "cell_type": "markdown",
   "metadata": {},
   "source": [
    "# Logistic Regression"
   ]
  },
  {
   "cell_type": "code",
   "execution_count": 31,
   "metadata": {},
   "outputs": [],
   "source": [
    "model=LogisticRegression(max_iter=10,solver='liblinear')\n"
   ]
  },
  {
   "cell_type": "markdown",
   "metadata": {},
   "source": [
    "Training the data"
   ]
  },
  {
   "cell_type": "code",
   "execution_count": 32,
   "metadata": {},
   "outputs": [
    {
     "name": "stderr",
     "output_type": "stream",
     "text": [
      "C:\\Users\\Lenovo\\Anaconda3\\lib\\site-packages\\sklearn\\svm\\_base.py:976: ConvergenceWarning: Liblinear failed to converge, increase the number of iterations.\n",
      "  warnings.warn(\"Liblinear failed to converge, increase \"\n"
     ]
    },
    {
     "data": {
      "text/plain": [
       "LogisticRegression(max_iter=10, solver='liblinear')"
      ]
     },
     "execution_count": 32,
     "metadata": {},
     "output_type": "execute_result"
    }
   ],
   "source": [
    "model.fit(X_train[['Size','BHK','Bathroom']],Y_train)"
   ]
  },
  {
   "cell_type": "markdown",
   "metadata": {},
   "source": [
    "Evaluating the model"
   ]
  },
  {
   "cell_type": "code",
   "execution_count": 33,
   "metadata": {},
   "outputs": [
    {
     "name": "stdout",
     "output_type": "stream",
     "text": [
      "50544.789811069684\n",
      "Accuracy score of training model =  0.057692307692307696\n"
     ]
    }
   ],
   "source": [
    "b=model.predict(X_train[['Size','BHK','Bathroom']])\n",
    "c=accuracy_score(b,Y_train)\n",
    "mse=mean_squared_error(Y_test,Y_pred)\n",
    "#print(mse)\n",
    "rmse=np.sqrt(mse)\n",
    "print(rmse)\n",
    "\n",
    "print(\"Accuracy score of training model = \",c)   #it shows that out of 100 predictions , only 6% we can predict correctly."
   ]
  },
  {
   "cell_type": "code",
   "execution_count": 34,
   "metadata": {},
   "outputs": [
    {
     "name": "stdout",
     "output_type": "stream",
     "text": [
      "Accuracy score of testing  model =  0.05578947368421053\n"
     ]
    }
   ],
   "source": [
    "b=model.predict(X_test[['Size','BHK','Bathroom']])\n",
    "c=accuracy_score(b,Y_test)\n",
    "print(\"Accuracy score of testing  model = \",c)    "
   ]
  },
  {
   "cell_type": "code",
   "execution_count": 24,
   "metadata": {},
   "outputs": [
    {
     "data": {
      "text/html": [
       "<div>\n",
       "<style scoped>\n",
       "    .dataframe tbody tr th:only-of-type {\n",
       "        vertical-align: middle;\n",
       "    }\n",
       "\n",
       "    .dataframe tbody tr th {\n",
       "        vertical-align: top;\n",
       "    }\n",
       "\n",
       "    .dataframe thead th {\n",
       "        text-align: right;\n",
       "    }\n",
       "</style>\n",
       "<table border=\"1\" class=\"dataframe\">\n",
       "  <thead>\n",
       "    <tr style=\"text-align: right;\">\n",
       "      <th></th>\n",
       "      <th>BHK</th>\n",
       "      <th>Rent</th>\n",
       "      <th>Size</th>\n",
       "      <th>Area Type</th>\n",
       "      <th>City</th>\n",
       "      <th>Furnishing Status</th>\n",
       "      <th>Tenant Preferred</th>\n",
       "      <th>Bathroom</th>\n",
       "      <th>Purchase</th>\n",
       "    </tr>\n",
       "  </thead>\n",
       "  <tbody>\n",
       "    <tr>\n",
       "      <th>0</th>\n",
       "      <td>2</td>\n",
       "      <td>10000</td>\n",
       "      <td>1100</td>\n",
       "      <td>1</td>\n",
       "      <td>Kolkata</td>\n",
       "      <td>Unfurnished</td>\n",
       "      <td>Bachelors/Family</td>\n",
       "      <td>2</td>\n",
       "      <td>1</td>\n",
       "    </tr>\n",
       "    <tr>\n",
       "      <th>1</th>\n",
       "      <td>2</td>\n",
       "      <td>20000</td>\n",
       "      <td>800</td>\n",
       "      <td>1</td>\n",
       "      <td>Kolkata</td>\n",
       "      <td>Semi-Furnished</td>\n",
       "      <td>Bachelors/Family</td>\n",
       "      <td>1</td>\n",
       "      <td>1</td>\n",
       "    </tr>\n",
       "    <tr>\n",
       "      <th>2</th>\n",
       "      <td>2</td>\n",
       "      <td>17000</td>\n",
       "      <td>1000</td>\n",
       "      <td>1</td>\n",
       "      <td>Kolkata</td>\n",
       "      <td>Semi-Furnished</td>\n",
       "      <td>Bachelors/Family</td>\n",
       "      <td>1</td>\n",
       "      <td>1</td>\n",
       "    </tr>\n",
       "    <tr>\n",
       "      <th>3</th>\n",
       "      <td>2</td>\n",
       "      <td>10000</td>\n",
       "      <td>800</td>\n",
       "      <td>1</td>\n",
       "      <td>Kolkata</td>\n",
       "      <td>Unfurnished</td>\n",
       "      <td>Bachelors/Family</td>\n",
       "      <td>1</td>\n",
       "      <td>1</td>\n",
       "    </tr>\n",
       "    <tr>\n",
       "      <th>4</th>\n",
       "      <td>2</td>\n",
       "      <td>7500</td>\n",
       "      <td>850</td>\n",
       "      <td>2</td>\n",
       "      <td>Kolkata</td>\n",
       "      <td>Unfurnished</td>\n",
       "      <td>Bachelors</td>\n",
       "      <td>1</td>\n",
       "      <td>0</td>\n",
       "    </tr>\n",
       "    <tr>\n",
       "      <th>...</th>\n",
       "      <td>...</td>\n",
       "      <td>...</td>\n",
       "      <td>...</td>\n",
       "      <td>...</td>\n",
       "      <td>...</td>\n",
       "      <td>...</td>\n",
       "      <td>...</td>\n",
       "      <td>...</td>\n",
       "      <td>...</td>\n",
       "    </tr>\n",
       "    <tr>\n",
       "      <th>4741</th>\n",
       "      <td>2</td>\n",
       "      <td>15000</td>\n",
       "      <td>1000</td>\n",
       "      <td>2</td>\n",
       "      <td>Hyderabad</td>\n",
       "      <td>Semi-Furnished</td>\n",
       "      <td>Bachelors/Family</td>\n",
       "      <td>2</td>\n",
       "      <td>1</td>\n",
       "    </tr>\n",
       "    <tr>\n",
       "      <th>4742</th>\n",
       "      <td>3</td>\n",
       "      <td>29000</td>\n",
       "      <td>2000</td>\n",
       "      <td>1</td>\n",
       "      <td>Hyderabad</td>\n",
       "      <td>Semi-Furnished</td>\n",
       "      <td>Bachelors/Family</td>\n",
       "      <td>3</td>\n",
       "      <td>1</td>\n",
       "    </tr>\n",
       "    <tr>\n",
       "      <th>4743</th>\n",
       "      <td>3</td>\n",
       "      <td>35000</td>\n",
       "      <td>1750</td>\n",
       "      <td>2</td>\n",
       "      <td>Hyderabad</td>\n",
       "      <td>Semi-Furnished</td>\n",
       "      <td>Bachelors/Family</td>\n",
       "      <td>3</td>\n",
       "      <td>1</td>\n",
       "    </tr>\n",
       "    <tr>\n",
       "      <th>4744</th>\n",
       "      <td>3</td>\n",
       "      <td>45000</td>\n",
       "      <td>1500</td>\n",
       "      <td>2</td>\n",
       "      <td>Hyderabad</td>\n",
       "      <td>Semi-Furnished</td>\n",
       "      <td>Family</td>\n",
       "      <td>2</td>\n",
       "      <td>1</td>\n",
       "    </tr>\n",
       "    <tr>\n",
       "      <th>4745</th>\n",
       "      <td>2</td>\n",
       "      <td>15000</td>\n",
       "      <td>1000</td>\n",
       "      <td>2</td>\n",
       "      <td>Hyderabad</td>\n",
       "      <td>Unfurnished</td>\n",
       "      <td>Bachelors</td>\n",
       "      <td>2</td>\n",
       "      <td>1</td>\n",
       "    </tr>\n",
       "  </tbody>\n",
       "</table>\n",
       "<p>4746 rows × 9 columns</p>\n",
       "</div>"
      ],
      "text/plain": [
       "      BHK   Rent  Size  Area Type       City Furnishing Status  \\\n",
       "0       2  10000  1100          1    Kolkata       Unfurnished   \n",
       "1       2  20000   800          1    Kolkata    Semi-Furnished   \n",
       "2       2  17000  1000          1    Kolkata    Semi-Furnished   \n",
       "3       2  10000   800          1    Kolkata       Unfurnished   \n",
       "4       2   7500   850          2    Kolkata       Unfurnished   \n",
       "...   ...    ...   ...        ...        ...               ...   \n",
       "4741    2  15000  1000          2  Hyderabad    Semi-Furnished   \n",
       "4742    3  29000  2000          1  Hyderabad    Semi-Furnished   \n",
       "4743    3  35000  1750          2  Hyderabad    Semi-Furnished   \n",
       "4744    3  45000  1500          2  Hyderabad    Semi-Furnished   \n",
       "4745    2  15000  1000          2  Hyderabad       Unfurnished   \n",
       "\n",
       "      Tenant Preferred  Bathroom  Purchase  \n",
       "0     Bachelors/Family         2         1  \n",
       "1     Bachelors/Family         1         1  \n",
       "2     Bachelors/Family         1         1  \n",
       "3     Bachelors/Family         1         1  \n",
       "4            Bachelors         1         0  \n",
       "...                ...       ...       ...  \n",
       "4741  Bachelors/Family         2         1  \n",
       "4742  Bachelors/Family         3         1  \n",
       "4743  Bachelors/Family         3         1  \n",
       "4744            Family         2         1  \n",
       "4745         Bachelors         2         1  \n",
       "\n",
       "[4746 rows x 9 columns]"
      ]
     },
     "execution_count": 24,
     "metadata": {},
     "output_type": "execute_result"
    }
   ],
   "source": [
    "new_df['Purchase'] = [1 if i>9000  else 0 for i in new_df['Rent']]\n",
    "new_df"
   ]
  },
  {
   "cell_type": "code",
   "execution_count": null,
   "metadata": {},
   "outputs": [],
   "source": []
  },
  {
   "cell_type": "code",
   "execution_count": null,
   "metadata": {},
   "outputs": [],
   "source": []
  },
  {
   "cell_type": "code",
   "execution_count": null,
   "metadata": {},
   "outputs": [],
   "source": []
  },
  {
   "cell_type": "code",
   "execution_count": null,
   "metadata": {},
   "outputs": [],
   "source": []
  },
  {
   "cell_type": "code",
   "execution_count": null,
   "metadata": {},
   "outputs": [],
   "source": []
  },
  {
   "cell_type": "code",
   "execution_count": null,
   "metadata": {},
   "outputs": [],
   "source": [
    "\n"
   ]
  },
  {
   "cell_type": "code",
   "execution_count": null,
   "metadata": {},
   "outputs": [],
   "source": []
  },
  {
   "cell_type": "code",
   "execution_count": null,
   "metadata": {},
   "outputs": [],
   "source": []
  },
  {
   "cell_type": "code",
   "execution_count": null,
   "metadata": {},
   "outputs": [],
   "source": []
  },
  {
   "cell_type": "code",
   "execution_count": null,
   "metadata": {},
   "outputs": [],
   "source": []
  },
  {
   "cell_type": "code",
   "execution_count": null,
   "metadata": {},
   "outputs": [],
   "source": []
  },
  {
   "cell_type": "code",
   "execution_count": null,
   "metadata": {},
   "outputs": [],
   "source": []
  },
  {
   "cell_type": "code",
   "execution_count": null,
   "metadata": {},
   "outputs": [],
   "source": []
  },
  {
   "cell_type": "code",
   "execution_count": null,
   "metadata": {},
   "outputs": [],
   "source": []
  },
  {
   "cell_type": "code",
   "execution_count": null,
   "metadata": {},
   "outputs": [],
   "source": []
  }
 ],
 "metadata": {
  "kernelspec": {
   "display_name": "Python 3",
   "language": "python",
   "name": "python3"
  },
  "language_info": {
   "codemirror_mode": {
    "name": "ipython",
    "version": 3
   },
   "file_extension": ".py",
   "mimetype": "text/x-python",
   "name": "python",
   "nbconvert_exporter": "python",
   "pygments_lexer": "ipython3",
   "version": "3.8.5"
  }
 },
 "nbformat": 4,
 "nbformat_minor": 4
}
